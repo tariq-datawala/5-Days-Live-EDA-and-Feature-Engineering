{
  "nbformat": 4,
  "nbformat_minor": 0,
  "metadata": {
    "colab": {
      "name": "web_scraping_tutorual_1.ipynb",
      "provenance": [],
      "collapsed_sections": [],
      "authorship_tag": "ABX9TyNDBi2lLTNXUkec2Q3Xs2tj"
    },
    "kernelspec": {
      "name": "python3",
      "display_name": "Python 3"
    },
    "language_info": {
      "name": "python"
    }
  },
  "cells": [
    {
      "cell_type": "markdown",
      "source": [
        "# **Web Scraping**\n",
        "Hi Everyone! I am tariq datawala from today we are going to start learning webscraping from scratch.\n",
        "we use two libraries for that.\n",
        "* Requests from fetch the data from web\n",
        "* bs4 for filtering the data\n",
        "\n",
        "**Tasks**\n",
        "* Find all p tags.\n",
        "* Find all p tags with classname outer-text.\n",
        "* Get all tags with classname is outer-text.\n",
        "* Get all tag with id = first.\n",
        "* Get all the p tag with in div.\n",
        "* Get all tags with classname first-item.\n",
        "* Get all p tag with classname first-item.\n",
        " "
      ],
      "metadata": {
        "id": "Di5W5mbtuKc1"
      }
    },
    {
      "cell_type": "code",
      "execution_count": 47,
      "metadata": {
        "id": "af2jaPNIfw-q",
        "colab": {
          "base_uri": "https://localhost:8080/"
        },
        "outputId": "91936a0e-cc53-4225-9809-a2275f256c97"
      },
      "outputs": [
        {
          "output_type": "execute_result",
          "data": {
            "text/plain": [
              "<Response [200]>"
            ]
          },
          "metadata": {},
          "execution_count": 47
        }
      ],
      "source": [
        "import requests \n",
        "from bs4 import BeautifulSoup\n",
        "\n",
        "# fetch the data from the giving link\n",
        "page = requests.get('https://dataquestio.github.io/web-scraping-pages/ids_and_classes.html')\n",
        "page\n",
        "\n",
        "\n"
      ]
    },
    {
      "cell_type": "code",
      "source": [
        "soup = BeautifulSoup(page.content,'html.parser') # html.parser for parse html content\n",
        "print(soup.prettify)\n"
      ],
      "metadata": {
        "colab": {
          "base_uri": "https://localhost:8080/"
        },
        "id": "H30VF_DvqRDJ",
        "outputId": "fb1794f7-8d95-42f7-ad20-c13e3e1bc450"
      },
      "execution_count": 48,
      "outputs": [
        {
          "output_type": "stream",
          "name": "stdout",
          "text": [
            "<bound method Tag.prettify of <html>\n",
            "<head>\n",
            "<title>A simple example page</title>\n",
            "</head>\n",
            "<body>\n",
            "<div>\n",
            "<p class=\"inner-text first-item\" id=\"first\">\n",
            "                First paragraph.\n",
            "            </p>\n",
            "<p class=\"inner-text\">\n",
            "                Second paragraph.\n",
            "            </p>\n",
            "</div>\n",
            "<p class=\"outer-text first-item\" id=\"second\">\n",
            "<b>\n",
            "                First outer paragraph.\n",
            "            </b>\n",
            "</p>\n",
            "<p class=\"outer-text\">\n",
            "<b>\n",
            "                Second outer paragraph.\n",
            "            </b>\n",
            "</p>\n",
            "</body>\n",
            "</html>>\n"
          ]
        }
      ]
    },
    {
      "cell_type": "code",
      "source": [
        "[type(item) for item in list(soup.children)] # get the type of all the children"
      ],
      "metadata": {
        "colab": {
          "base_uri": "https://localhost:8080/"
        },
        "id": "Wh-D16ggtsYA",
        "outputId": "1a51084f-69b8-46e6-a86b-2357a0a4fbfd"
      },
      "execution_count": 50,
      "outputs": [
        {
          "output_type": "execute_result",
          "data": {
            "text/plain": [
              "[bs4.element.Tag]"
            ]
          },
          "metadata": {},
          "execution_count": 50
        }
      ]
    },
    {
      "cell_type": "code",
      "source": [
        "# Find all p tags.\n",
        "p = soup.find_all('p')\n",
        "p[0].get_text()\n"
      ],
      "metadata": {
        "colab": {
          "base_uri": "https://localhost:8080/",
          "height": 35
        },
        "id": "4TVC6GZewlvZ",
        "outputId": "aa591ada-2d20-43e9-9535-3ecc3b5582af"
      },
      "execution_count": 54,
      "outputs": [
        {
          "output_type": "execute_result",
          "data": {
            "text/plain": [
              "'\\n                First paragraph.\\n            '"
            ],
            "application/vnd.google.colaboratory.intrinsic+json": {
              "type": "string"
            }
          },
          "metadata": {},
          "execution_count": 54
        }
      ]
    },
    {
      "cell_type": "code",
      "source": [
        "# Find all p tags with classname outer-text.\n",
        "\n",
        "p_outertext = soup.find_all('p','outer-text')\n",
        "print(p_outertext)"
      ],
      "metadata": {
        "colab": {
          "base_uri": "https://localhost:8080/"
        },
        "id": "ydfgFmsd8QvB",
        "outputId": "b747ea5d-eb85-490f-c66f-00d81bafb4d9"
      },
      "execution_count": 53,
      "outputs": [
        {
          "output_type": "stream",
          "name": "stdout",
          "text": [
            "[<p class=\"outer-text first-item\" id=\"second\">\n",
            "<b>\n",
            "                First outer paragraph.\n",
            "            </b>\n",
            "</p>, <p class=\"outer-text\">\n",
            "<b>\n",
            "                Second outer paragraph.\n",
            "            </b>\n",
            "</p>]\n"
          ]
        }
      ]
    },
    {
      "cell_type": "code",
      "source": [
        "# Get all tags with classname is outer-text.\n",
        "\n",
        "outer_text = soup.find_all(class_='outer-text')"
      ],
      "metadata": {
        "id": "TZmYg4Qz5x-q"
      },
      "execution_count": 57,
      "outputs": []
    },
    {
      "cell_type": "code",
      "source": [
        "outer_text"
      ],
      "metadata": {
        "colab": {
          "base_uri": "https://localhost:8080/"
        },
        "id": "PbDf1R0S4WoM",
        "outputId": "30f24c3c-f598-48e6-e029-1df779352fb6"
      },
      "execution_count": 58,
      "outputs": [
        {
          "output_type": "execute_result",
          "data": {
            "text/plain": [
              "[<p class=\"outer-text first-item\" id=\"second\">\n",
              " <b>\n",
              "                 First outer paragraph.\n",
              "             </b>\n",
              " </p>, <p class=\"outer-text\">\n",
              " <b>\n",
              "                 Second outer paragraph.\n",
              "             </b>\n",
              " </p>]"
            ]
          },
          "metadata": {},
          "execution_count": 58
        }
      ]
    },
    {
      "cell_type": "code",
      "source": [
        "# Get all tag with id = first.\n",
        "\n",
        " \n",
        "first_id = soup.find_all(id = 'first')\n",
        "first_id"
      ],
      "metadata": {
        "colab": {
          "base_uri": "https://localhost:8080/"
        },
        "id": "yXZnGBRx43ie",
        "outputId": "ec31fa8d-497f-401f-c274-205e419ce73b"
      },
      "execution_count": 59,
      "outputs": [
        {
          "output_type": "execute_result",
          "data": {
            "text/plain": [
              "[<p class=\"inner-text first-item\" id=\"first\">\n",
              "                 First paragraph.\n",
              "             </p>]"
            ]
          },
          "metadata": {},
          "execution_count": 59
        }
      ]
    },
    {
      "cell_type": "code",
      "source": [
        "# Get all the p tag with in div.\n",
        "soup.select('div p')"
      ],
      "metadata": {
        "colab": {
          "base_uri": "https://localhost:8080/"
        },
        "id": "sg02N6hy9TZd",
        "outputId": "f36c6d85-95cc-4c43-ee65-c41813230464"
      },
      "execution_count": 61,
      "outputs": [
        {
          "output_type": "execute_result",
          "data": {
            "text/plain": [
              "[<p class=\"inner-text first-item\" id=\"first\">\n",
              "                 First paragraph.\n",
              "             </p>, <p class=\"inner-text\">\n",
              "                 Second paragraph.\n",
              "             </p>]"
            ]
          },
          "metadata": {},
          "execution_count": 61
        }
      ]
    },
    {
      "cell_type": "code",
      "source": [
        "# Get all tags with classname first-item.\n",
        "\n",
        "\n",
        "first_item = soup.find_all(class_='first-item')\n",
        "first_item"
      ],
      "metadata": {
        "colab": {
          "base_uri": "https://localhost:8080/"
        },
        "id": "kztrCO6T_y1Z",
        "outputId": "9b110ec4-2395-4396-9029-07f33b1f702b"
      },
      "execution_count": 62,
      "outputs": [
        {
          "output_type": "execute_result",
          "data": {
            "text/plain": [
              "[<p class=\"inner-text first-item\" id=\"first\">\n",
              "                 First paragraph.\n",
              "             </p>, <p class=\"outer-text first-item\" id=\"second\">\n",
              " <b>\n",
              "                 First outer paragraph.\n",
              "             </b>\n",
              " </p>]"
            ]
          },
          "metadata": {},
          "execution_count": 62
        }
      ]
    },
    {
      "cell_type": "code",
      "source": [
        "# Get all p tag with classname first-item.\n",
        " \n",
        "p_first_item = soup.find_all('p','first-item')\n",
        "p_first_item"
      ],
      "metadata": {
        "colab": {
          "base_uri": "https://localhost:8080/"
        },
        "id": "AtJCxbC-ASeV",
        "outputId": "e6ba7e8a-cfa2-4f1b-df34-9bd32ad8c1cc"
      },
      "execution_count": 64,
      "outputs": [
        {
          "output_type": "execute_result",
          "data": {
            "text/plain": [
              "[<p class=\"inner-text first-item\" id=\"first\">\n",
              "                 First paragraph.\n",
              "             </p>, <p class=\"outer-text first-item\" id=\"second\">\n",
              " <b>\n",
              "                 First outer paragraph.\n",
              "             </b>\n",
              " </p>]"
            ]
          },
          "metadata": {},
          "execution_count": 64
        }
      ]
    },
    {
      "cell_type": "code",
      "source": [
        ""
      ],
      "metadata": {
        "id": "S7jseZiqAjjZ"
      },
      "execution_count": null,
      "outputs": []
    }
  ]
}